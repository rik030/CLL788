{
 "cells": [
  {
   "cell_type": "code",
   "execution_count": 12,
   "id": "75eab331",
   "metadata": {},
   "outputs": [],
   "source": [
    "import numpy as np\n",
    "import matplotlib.pyplot as plt\n",
    "import pandas as pd\n",
    "import seaborn as sns"
   ]
  },
  {
   "cell_type": "code",
   "execution_count": 25,
   "id": "b59e997e",
   "metadata": {},
   "outputs": [],
   "source": [
    "#Loading dataset\n",
    "data=pd.read_excel(\"C:/Users/risha/Downloads/Data_GMM.xlsx\")"
   ]
  },
  {
   "cell_type": "code",
   "execution_count": 26,
   "id": "138388fb",
   "metadata": {},
   "outputs": [
    {
     "data": {
      "text/html": [
       "<div>\n",
       "<style scoped>\n",
       "    .dataframe tbody tr th:only-of-type {\n",
       "        vertical-align: middle;\n",
       "    }\n",
       "\n",
       "    .dataframe tbody tr th {\n",
       "        vertical-align: top;\n",
       "    }\n",
       "\n",
       "    .dataframe thead th {\n",
       "        text-align: right;\n",
       "    }\n",
       "</style>\n",
       "<table border=\"1\" class=\"dataframe\">\n",
       "  <thead>\n",
       "    <tr style=\"text-align: right;\">\n",
       "      <th></th>\n",
       "      <th>Result 1</th>\n",
       "      <th>Result 2</th>\n",
       "    </tr>\n",
       "  </thead>\n",
       "  <tbody>\n",
       "    <tr>\n",
       "      <th>0</th>\n",
       "      <td>1.790702</td>\n",
       "      <td>0.756250</td>\n",
       "    </tr>\n",
       "    <tr>\n",
       "      <th>1</th>\n",
       "      <td>1.287721</td>\n",
       "      <td>0.102399</td>\n",
       "    </tr>\n",
       "    <tr>\n",
       "      <th>2</th>\n",
       "      <td>1.003226</td>\n",
       "      <td>0.207663</td>\n",
       "    </tr>\n",
       "    <tr>\n",
       "      <th>3</th>\n",
       "      <td>1.365617</td>\n",
       "      <td>0.047025</td>\n",
       "    </tr>\n",
       "    <tr>\n",
       "      <th>4</th>\n",
       "      <td>4.526678</td>\n",
       "      <td>1.353905</td>\n",
       "    </tr>\n",
       "  </tbody>\n",
       "</table>\n",
       "</div>"
      ],
      "text/plain": [
       "   Result 1  Result 2\n",
       "0  1.790702  0.756250\n",
       "1  1.287721  0.102399\n",
       "2  1.003226  0.207663\n",
       "3  1.365617  0.047025\n",
       "4  4.526678  1.353905"
      ]
     },
     "execution_count": 26,
     "metadata": {},
     "output_type": "execute_result"
    }
   ],
   "source": [
    "data.head()"
   ]
  },
  {
   "cell_type": "code",
   "execution_count": 27,
   "id": "d3a7b7d5",
   "metadata": {},
   "outputs": [],
   "source": [
    "#assigning X\n",
    "tr=data.to_numpy()\n",
    "X=tr[:,0:2]"
   ]
  },
  {
   "cell_type": "code",
   "execution_count": 28,
   "id": "e15c26f3",
   "metadata": {},
   "outputs": [
    {
     "data": {
      "image/png": "[encoded data removed]",
      "text/plain": [
       "<Figure size 432x288 with 1 Axes>"
      ]
     },
     "metadata": {
      "needs_background": "light"
     },
     "output_type": "display_data"
    }
   ],
   "source": [
    "#Plotting Data\n",
    "def plot(x):\n",
    "    ax=sns.scatterplot(x=x[:,0], y=x[:, 1]).set_title(\"Data Distribution\")\n",
    "    plt.xlabel(\"Result 1\")\n",
    "    plt.ylabel(\"Result 2\")\n",
    "plot(X)    "
   ]
  },
  {
   "cell_type": "code",
   "execution_count": 29,
   "id": "6f713aa2",
   "metadata": {},
   "outputs": [],
   "source": [
    "from scipy.stats import multivariate_normal"
   ]
  },
  {
   "cell_type": "code",
   "execution_count": 30,
   "id": "3b2cf1a1",
   "metadata": {},
   "outputs": [],
   "source": [
    "class GMM:\n",
    "    def __init__(self, k, max_iter=5):\n",
    "        self.k = k\n",
    "        self.max_iter = int(max_iter)\n",
    "\n",
    "    def initialize(self, X):\n",
    "        self.shape = X.shape\n",
    "        self.n, self.m = self.shape\n",
    "\n",
    "        self.phi = np.full(shape=self.k, fill_value=1/self.k)\n",
    "        self.weights = np.full( shape=self.shape, fill_value=1/self.k)\n",
    "        \n",
    "        random_row = np.random.randint(low=0, high=self.n, size=self.k)\n",
    "        self.mu = [  X[row_index,:] for row_index in random_row ]\n",
    "        self.sigma = [ np.cov(X.T) for _ in range(self.k) ]\n",
    "\n",
    "    def e_step(self, X):\n",
    "        # update weights and phi holding mu and sigma constant\n",
    "        self.weights = self.predict_proba(X)\n",
    "        self.phi = self.weights.mean(axis=0)\n",
    "    \n",
    "    def m_step(self, X):\n",
    "        # update mu and sigma holding phi and weights constant\n",
    "        for i in range(self.k):\n",
    "            weight = self.weights[:, [i]]\n",
    "            total_weight = weight.sum()\n",
    "            self.mu[i] = (X * weight).sum(axis=0) / total_weight\n",
    "            self.sigma[i] = np.cov(X.T, \n",
    "                aweights=(weight/total_weight).flatten(), \n",
    "                bias=True)\n",
    "\n",
    "    def fit(self, X):\n",
    "        self.initialize(X)\n",
    "        \n",
    "        for iteration in range(self.max_iter):\n",
    "            self.e_step(X)\n",
    "            self.m_step(X)\n",
    "            \n",
    "    def predict_proba(self, X):\n",
    "        likelihood = np.zeros( (self.n, self.k) )\n",
    "        for i in range(self.k):\n",
    "            distribution = multivariate_normal(\n",
    "                mean=self.mu[i], \n",
    "                cov=self.sigma[i])\n",
    "            likelihood[:,i] = distribution.pdf(X)\n",
    "        \n",
    "        numerator = likelihood * self.phi\n",
    "        denominator = numerator.sum(axis=1)[:, np.newaxis]\n",
    "        weights = numerator / denominator\n",
    "        return weights\n",
    "    \n",
    "    def predict(self, X):\n",
    "        weights= self.predict_proba(X)\n",
    "        return np.argmax(weights, axis=1), self.mu, self.sigma"
   ]
  },
  {
   "cell_type": "code",
   "execution_count": 31,
   "id": "bc95e12c",
   "metadata": {},
   "outputs": [],
   "source": [
    "np.random.seed(10)\n",
    "gmm = GMM(k=2, max_iter=1000)\n",
    "gmm.fit(X)\n",
    "pred, mean_, co=gmm.predict(X)\n",
    "prediction=[pred]\n",
    "prediction=np.array(prediction)\n",
    "prediction=prediction.T"
   ]
  },
  {
   "cell_type": "code",
   "execution_count": 32,
   "id": "b1c1e64a",
   "metadata": {},
   "outputs": [
    {
     "name": "stdout",
     "output_type": "stream",
     "text": [
      "[[ 1.19721315  1.00893775]\n",
      " [-4.81815103 -4.87158388]]\n"
     ]
    }
   ],
   "source": [
    "mean_=np.array(mean_)\n",
    "print(mean_)"
   ]
  },
  {
   "cell_type": "code",
   "execution_count": 33,
   "id": "21b43c89",
   "metadata": {},
   "outputs": [
    {
     "data": {
      "image/png": "[encoded data removed]",
      "text/plain": [
       "<Figure size 432x288 with 1 Axes>"
      ]
     },
     "metadata": {
      "needs_background": "light"
     },
     "output_type": "display_data"
    }
   ],
   "source": [
    "def plot_x(x, y, means):\n",
    "    plt.scatter(x[:,0], x[:, 1], c=y)\n",
    "    plt.scatter(means[0,0], means[0,1], color='cyan', marker='x')\n",
    "    plt.scatter(means[1,0], means[1,1], color='blue', marker='x')\n",
    "    plt.xlabel(\"Variable 1\")\n",
    "    plt.ylabel(\"Variable 2\")\n",
    "    plt.title(\"GMM on KMeans data\")\n",
    "plot_x(X,prediction, mean_)  "
   ]
  },
  {
   "cell_type": "code",
   "execution_count": 115,
   "id": "ff169f3f",
   "metadata": {},
   "outputs": [
    {
     "data": {
      "text/plain": [
       "[array([[1.19169015, 0.00910693],\n",
       "        [0.00910693, 0.97049735]]),\n",
       " array([[ 1.16968737, -0.10528566],\n",
       "        [-0.10528566,  0.80018909]])]"
      ]
     },
     "execution_count": 115,
     "metadata": {},
     "output_type": "execute_result"
    }
   ],
   "source": [
    "#covariance matrix\n",
    "co"
   ]
  },
  {
   "cell_type": "code",
   "execution_count": null,
   "id": "c7ba0f82",
   "metadata": {},
   "outputs": [],
   "source": []
  }
 ],
 "metadata": {
  "kernelspec": {
   "display_name": "Python 3",
   "language": "python",
   "name": "python3"
  },
  "language_info": {
   "codemirror_mode": {
    "name": "ipython",
    "version": 3
   },
   "file_extension": ".py",
   "mimetype": "text/x-python",
   "name": "python",
   "nbconvert_exporter": "python",
   "pygments_lexer": "ipython3",
   "version": "3.8.8"
  }
 },
 "nbformat": 4,
 "nbformat_minor": 5
}
