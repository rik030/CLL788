{
 "cells": [
  {
   "cell_type": "code",
   "execution_count": 172,
   "id": "c26491ab",
   "metadata": {},
   "outputs": [
    {
     "data": {
      "text/html": [
       "<div>\n",
       "<style scoped>\n",
       "    .dataframe tbody tr th:only-of-type {\n",
       "        vertical-align: middle;\n",
       "    }\n",
       "\n",
       "    .dataframe tbody tr th {\n",
       "        vertical-align: top;\n",
       "    }\n",
       "\n",
       "    .dataframe thead th {\n",
       "        text-align: right;\n",
       "    }\n",
       "</style>\n",
       "<table border=\"1\" class=\"dataframe\">\n",
       "  <thead>\n",
       "    <tr style=\"text-align: right;\">\n",
       "      <th></th>\n",
       "      <th>Aptitude</th>\n",
       "      <th>Verbal</th>\n",
       "      <th>Label</th>\n",
       "    </tr>\n",
       "  </thead>\n",
       "  <tbody>\n",
       "    <tr>\n",
       "      <th>0</th>\n",
       "      <td>34.723660</td>\n",
       "      <td>30.386711</td>\n",
       "      <td>0</td>\n",
       "    </tr>\n",
       "    <tr>\n",
       "      <th>1</th>\n",
       "      <td>30.386711</td>\n",
       "      <td>35.947409</td>\n",
       "      <td>0</td>\n",
       "    </tr>\n",
       "    <tr>\n",
       "      <th>2</th>\n",
       "      <td>35.947409</td>\n",
       "      <td>60.282599</td>\n",
       "      <td>0</td>\n",
       "    </tr>\n",
       "    <tr>\n",
       "      <th>3</th>\n",
       "      <td>45.183277</td>\n",
       "      <td>61.206665</td>\n",
       "      <td>0</td>\n",
       "    </tr>\n",
       "    <tr>\n",
       "      <th>4</th>\n",
       "      <td>95.961555</td>\n",
       "      <td>75.113658</td>\n",
       "      <td>0</td>\n",
       "    </tr>\n",
       "  </tbody>\n",
       "</table>\n",
       "</div>"
      ],
      "text/plain": [
       "    Aptitude     Verbal  Label\n",
       "0  34.723660  30.386711      0\n",
       "1  30.386711  35.947409      0\n",
       "2  35.947409  60.282599      0\n",
       "3  45.183277  61.206665      0\n",
       "4  95.961555  75.113658      0"
      ]
     },
     "execution_count": 172,
     "metadata": {},
     "output_type": "execute_result"
    }
   ],
   "source": [
    "import numpy as np \n",
    "import pandas as pd \n",
    "import matplotlib.pyplot as plt \n",
    "import time  \n",
    "\n",
    "train_data=pd.read_excel(\"C:/Users/risha/Downloads/q1train.xlsx\")\n",
    "test_data=pd.read_excel(\"C:/Users/risha/Downloads/q1test.xlsx\")\n",
    "\n",
    "train_data.head() "
   ]
  },
  {
   "cell_type": "code",
   "execution_count": 173,
   "id": "8a25c7b7",
   "metadata": {},
   "outputs": [],
   "source": [
    "#Numpy conversion\n",
    "d=train_data.to_numpy()\n",
    "X=d[:,0:2]\n",
    "Y=d[:,-1]"
   ]
  },
  {
   "cell_type": "code",
   "execution_count": 174,
   "id": "7f6c9802",
   "metadata": {},
   "outputs": [],
   "source": [
    "#Normalizing Dataset\n",
    "from sklearn import preprocessing\n",
    "import numpy as np\n",
    "scaler = preprocessing.StandardScaler().fit(X)\n",
    "X = scaler.transform(X)"
   ]
  },
  {
   "cell_type": "code",
   "execution_count": 175,
   "id": "a2170338",
   "metadata": {},
   "outputs": [],
   "source": [
    "a=np.ones(X.shape[0])\n",
    "a=np.expand_dims(a, axis=1)\n",
    "X=np.append(a, X, axis=1)"
   ]
  },
  {
   "cell_type": "code",
   "execution_count": 176,
   "id": "adff07bd",
   "metadata": {},
   "outputs": [],
   "source": [
    "#Sigmoid Function\n",
    "def sigmoid(x):\n",
    "    z = 1/(1 + np.exp(-x))\n",
    "    return z"
   ]
  },
  {
   "cell_type": "code",
   "execution_count": 177,
   "id": "8d6b6bc9",
   "metadata": {},
   "outputs": [
    {
     "name": "stdout",
     "output_type": "stream",
     "text": [
      "[0.05476069 1.65040695 0.31334112]\n"
     ]
    }
   ],
   "source": [
    "#Batch LMS GRADIENT DESCENT\n",
    "alpha = 0.01 \n",
    "tol=1e-5\n",
    "m = Y.size \n",
    "weights = np.array([np.random.random(1)[0],np.random.random(1)[0],np.random.random(1)[0]])\n",
    "cost=0\n",
    "prev_cost=99999\n",
    "cost_hist=[]\n",
    "epochs=10000\n",
    "for i in range(epochs):\n",
    "    pred = sigmoid(X.dot(weights))\n",
    "    prev_cost =-(Y.dot(np.log(pred))+(1-Y).dot(np.log(1-np.log(pred))))\n",
    "    weights = weights - alpha*(X.T.dot(pred-Y))/m\n",
    "    pred = sigmoid(X.dot(weights))\n",
    "    cost = -(Y.dot(np.log(pred))+(1-Y).dot(np.log(1-np.log(pred))))\n",
    "    cost_hist.append(cost)\n",
    "print(weights)"
   ]
  },
  {
   "cell_type": "code",
   "execution_count": 178,
   "id": "9a37bf95",
   "metadata": {},
   "outputs": [
    {
     "data": {
      "image/png": "[encoded data removed]",
      "text/plain": [
       "<Figure size 432x288 with 1 Axes>"
      ]
     },
     "metadata": {
      "needs_background": "light"
     },
     "output_type": "display_data"
    }
   ],
   "source": [
    "plt.title('Cost Function J')\n",
    "plt.xlabel('No. of iterations')\n",
    "plt.ylabel('Cost')\n",
    "plt.plot(cost_hist)\n",
    "plt.show()"
   ]
  },
  {
   "cell_type": "code",
   "execution_count": 182,
   "id": "7392d1f3",
   "metadata": {},
   "outputs": [],
   "source": [
    "ypred=sigmoid(X.dot(weights))\n",
    "# print(ypred)\n",
    "ypred = np.where(ypred > 0.5, 1, 0)       "
   ]
  },
  {
   "cell_type": "code",
   "execution_count": 183,
   "id": "7e1ec9af",
   "metadata": {},
   "outputs": [
    {
     "data": {
      "text/plain": [
       "array([0, 0, 0, 0, 1, 1, 0, 1, 1, 0, 0, 1, 0, 0, 0, 0, 0, 0, 1, 0, 0, 1,\n",
       "       0, 1, 0, 0, 0, 0, 0, 0, 0, 0, 0, 0, 0, 1, 1, 1, 1, 1, 1, 1, 0, 1,\n",
       "       1, 1, 1, 1, 1, 1, 1, 1, 0, 1, 1, 1, 1, 1, 1, 1, 1, 1, 1, 1, 1, 1,\n",
       "       1, 0, 1, 0])"
      ]
     },
     "execution_count": 183,
     "metadata": {},
     "output_type": "execute_result"
    }
   ],
   "source": [
    "ypred"
   ]
  },
  {
   "cell_type": "code",
   "execution_count": 184,
   "id": "efda0a30",
   "metadata": {},
   "outputs": [
    {
     "name": "stdout",
     "output_type": "stream",
     "text": [
      "Accuracy on training set: 82.6086956521739 %\n"
     ]
    }
   ],
   "source": [
    "#Training Accuracy\n",
    "ct = 0    \n",
    "correctly_classified=0\n",
    "for ct in range(np.size(ypred)):  \n",
    "    if (Y[ct] == ypred[ct]) :            \n",
    "        correctly_classified = correctly_classified + 1       \n",
    "          \n",
    "print( \"Accuracy on training set:\", ( correctly_classified / ct ) * 100,\"%\")"
   ]
  },
  {
   "cell_type": "code",
   "execution_count": 165,
   "id": "5a2e8f53",
   "metadata": {},
   "outputs": [
    {
     "data": {
      "image/png": "[encoded data removed]",
      "text/plain": [
       "<Figure size 432x288 with 2 Axes>"
      ]
     },
     "metadata": {
      "needs_background": "light"
     },
     "output_type": "display_data"
    }
   ],
   "source": [
    "from sklearn.metrics import confusion_matrix, ConfusionMatrixDisplay\n",
    "cm = confusion_matrix(Y.T, ypred.T)\n",
    "disp = ConfusionMatrixDisplay(confusion_matrix=cm)\n",
    "disp.plot()\n",
    "plt.title(\"Confusion Matrix for Logistic Regression\")\n",
    "plt.show()"
   ]
  },
  {
   "cell_type": "code",
   "execution_count": 113,
   "id": "349572ab",
   "metadata": {},
   "outputs": [],
   "source": [
    "#Prediction on test data\n",
    "test_data= pd.read_excel(\"CLL788_A1/q2test.xlsx\")\n",
    "# print(test_data.head()) \n",
    "d=test_data.to_numpy()\n",
    "X_test=d[:,0:2]\n",
    "X_test=scaler.transform(X_test)\n",
    "b=np.ones(X_test.shape[0])\n",
    "b=np.expand_dims(b, axis=1)\n",
    "X_test=np.append(b, X_test, axis=1)\n",
    "# print(X_test)"
   ]
  },
  {
   "cell_type": "code",
   "execution_count": 114,
   "id": "95d61c5b",
   "metadata": {},
   "outputs": [],
   "source": [
    "ypred_test=sigmoid(X_test.dot(weights))\n",
    "ypred_test = np.where(ypred_test > 0.5, 1, 0 ) "
   ]
  },
  {
   "cell_type": "code",
   "execution_count": 115,
   "id": "3c3fc677",
   "metadata": {},
   "outputs": [
    {
     "data": {
      "text/plain": [
       "array([0, 1, 1, 0, 0, 1, 0, 0, 0, 1, 1, 1, 1, 0, 1, 1, 0, 1, 1, 0, 1, 1,\n",
       "       0, 1, 1, 1, 0, 1, 0, 1])"
      ]
     },
     "execution_count": 115,
     "metadata": {},
     "output_type": "execute_result"
    }
   ],
   "source": [
    "ypred_test"
   ]
  },
  {
   "cell_type": "code",
   "execution_count": 116,
   "id": "2c71bb81",
   "metadata": {},
   "outputs": [],
   "source": [
    "np.savetxt('logistic_test.txt', ypred_test, fmt ='%.0f\\n')"
   ]
  },
  {
   "cell_type": "code",
   "execution_count": 130,
   "id": "e434e999",
   "metadata": {},
   "outputs": [],
   "source": [
    "def predict(weights, X):\n",
    "    \n",
    "    m=X.shape[1]\n",
    "    predictions=np.empty((1,m))\n",
    "#     print(X.shape, weights.shape)\n",
    "    A=weights.dot(X)\n",
    "    predictions = (A > 0.5)\n",
    "#     predictions=(int)predictions\n",
    "    return predictions"
   ]
  },
  {
   "cell_type": "code",
   "execution_count": 166,
   "id": "b1ddeab4",
   "metadata": {},
   "outputs": [],
   "source": [
    "def plot_data(inputs,targets,weights):\n",
    "    # fig config\n",
    "    plt.figure(figsize=(10,6))\n",
    "    plt.ylabel('x2')\n",
    "    plt.xlabel('x1')\n",
    "    plt.grid(True)\n",
    "    plt.title(\"Decision Boundary for Logistic Regression\")\n",
    "\n",
    "    for input,target in zip(X[:,1:3],Y):\n",
    "        plt.plot(input[0],input[1],'ro' if (target == 1.0) else 'bo')\n",
    "\n",
    "    # Here i am calculating slope and intercept with given three weights\n",
    "    for i in np.linspace(np.amin(inputs[:,1:3]),np.amax(inputs[:,1:3])):\n",
    "        slope = -(weights[0]/weights[2])/(weights[0]/weights[1])  \n",
    "        intercept = -weights[0]/weights[2]\n",
    "\n",
    "        #y =mx+c, m is slope and c is intercept\n",
    "        y = (slope*i) + intercept\n",
    "#         print(i)\n",
    "        plt.plot(i, y,'ko')"
   ]
  },
  {
   "cell_type": "code",
   "execution_count": 167,
   "id": "b95c90f9",
   "metadata": {},
   "outputs": [
    {
     "data": {
      "image/png": "[encoded data removed]",
      "text/plain": [
       "<Figure size 720x432 with 1 Axes>"
      ]
     },
     "metadata": {
      "needs_background": "light"
     },
     "output_type": "display_data"
    }
   ],
   "source": [
    "plot_data(X,Y,weights)"
   ]
  },
  {
   "cell_type": "code",
   "execution_count": null,
   "id": "94de5322",
   "metadata": {},
   "outputs": [],
   "source": []
  }
 ],
 "metadata": {
  "kernelspec": {
   "display_name": "Python 3",
   "language": "python",
   "name": "python3"
  },
  "language_info": {
   "codemirror_mode": {
    "name": "ipython",
    "version": 3
   },
   "file_extension": ".py",
   "mimetype": "text/x-python",
   "name": "python",
   "nbconvert_exporter": "python",
   "pygments_lexer": "ipython3",
   "version": "3.8.8"
  }
 },
 "nbformat": 4,
 "nbformat_minor": 5
}
