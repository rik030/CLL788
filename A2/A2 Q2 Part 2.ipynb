{
 "cells": [
  {
   "cell_type": "code",
   "execution_count": 7,
   "id": "75eab331",
   "metadata": {},
   "outputs": [],
   "source": [
    "import numpy as np\n",
    "import matplotlib.pyplot as plt\n",
    "import pandas as pd\n",
    "from sklearn.neural_network import MLPClassifier"
   ]
  },
  {
   "cell_type": "code",
   "execution_count": 2,
   "id": "b59e997e",
   "metadata": {},
   "outputs": [],
   "source": [
    "#Loading dataset\n",
    "train_data=pd.read_excel(\"C:/Users/risha/Downloads/q1train.xlsx\")\n",
    "test_data=pd.read_excel(\"C:/Users/risha/Downloads/q1test.xlsx\")"
   ]
  },
  {
   "cell_type": "code",
   "execution_count": 3,
   "id": "138388fb",
   "metadata": {},
   "outputs": [
    {
     "data": {
      "text/html": [
       "<div>\n",
       "<style scoped>\n",
       "    .dataframe tbody tr th:only-of-type {\n",
       "        vertical-align: middle;\n",
       "    }\n",
       "\n",
       "    .dataframe tbody tr th {\n",
       "        vertical-align: top;\n",
       "    }\n",
       "\n",
       "    .dataframe thead th {\n",
       "        text-align: right;\n",
       "    }\n",
       "</style>\n",
       "<table border=\"1\" class=\"dataframe\">\n",
       "  <thead>\n",
       "    <tr style=\"text-align: right;\">\n",
       "      <th></th>\n",
       "      <th>Aptitude</th>\n",
       "      <th>Verbal</th>\n",
       "      <th>Label</th>\n",
       "    </tr>\n",
       "  </thead>\n",
       "  <tbody>\n",
       "    <tr>\n",
       "      <th>0</th>\n",
       "      <td>34.723660</td>\n",
       "      <td>30.386711</td>\n",
       "      <td>0</td>\n",
       "    </tr>\n",
       "    <tr>\n",
       "      <th>1</th>\n",
       "      <td>30.386711</td>\n",
       "      <td>35.947409</td>\n",
       "      <td>0</td>\n",
       "    </tr>\n",
       "    <tr>\n",
       "      <th>2</th>\n",
       "      <td>35.947409</td>\n",
       "      <td>60.282599</td>\n",
       "      <td>0</td>\n",
       "    </tr>\n",
       "    <tr>\n",
       "      <th>3</th>\n",
       "      <td>45.183277</td>\n",
       "      <td>61.206665</td>\n",
       "      <td>0</td>\n",
       "    </tr>\n",
       "    <tr>\n",
       "      <th>4</th>\n",
       "      <td>95.961555</td>\n",
       "      <td>75.113658</td>\n",
       "      <td>0</td>\n",
       "    </tr>\n",
       "  </tbody>\n",
       "</table>\n",
       "</div>"
      ],
      "text/plain": [
       "    Aptitude     Verbal  Label\n",
       "0  34.723660  30.386711      0\n",
       "1  30.386711  35.947409      0\n",
       "2  35.947409  60.282599      0\n",
       "3  45.183277  61.206665      0\n",
       "4  95.961555  75.113658      0"
      ]
     },
     "execution_count": 3,
     "metadata": {},
     "output_type": "execute_result"
    }
   ],
   "source": [
    "train_data.head()"
   ]
  },
  {
   "cell_type": "code",
   "execution_count": 9,
   "id": "d3a7b7d5",
   "metadata": {},
   "outputs": [],
   "source": [
    "#assigning X train, Y train, X test\n",
    "tr=train_data.to_numpy()\n",
    "ts=test_data.to_numpy()\n",
    "X_train=tr[:,0:2]\n",
    "Y_train=tr[:,-1]\n",
    "X_test=ts[:,0:2]"
   ]
  },
  {
   "cell_type": "code",
   "execution_count": 10,
   "id": "e51df96d",
   "metadata": {},
   "outputs": [],
   "source": [
    "#Normalizing Dataset\n",
    "from sklearn import preprocessing\n",
    "import numpy as np\n",
    "scaler = preprocessing.StandardScaler().fit(X_train)\n",
    "X_train = scaler.transform(X_train)\n",
    "X_test=scaler.transform(X_test)"
   ]
  },
  {
   "cell_type": "code",
   "execution_count": 6,
   "id": "0e8abbdc",
   "metadata": {},
   "outputs": [],
   "source": [
    "#Reshaping arrays\n",
    "X_train=X_train.T\n",
    "X_test=X_test.T\n",
    "#converting rank 1 matrix to (,1)\n",
    "Y_train=np.reshape(Y_train,(Y_train.shape[0],1))\n",
    "Y_train=Y_train.T"
   ]
  },
  {
   "cell_type": "code",
   "execution_count": 32,
   "id": "c94be622",
   "metadata": {},
   "outputs": [],
   "source": [
    "#MLP Classifier from sklearn\n",
    "clf = MLPClassifier(hidden_layer_sizes=(4,1), activation='tanh', random_state=1, max_iter=10000).fit(X_train, Y_train)"
   ]
  },
  {
   "cell_type": "code",
   "execution_count": 33,
   "id": "fd0d69db",
   "metadata": {},
   "outputs": [],
   "source": [
    "y_pred=clf.predict(X_train)"
   ]
  },
  {
   "cell_type": "code",
   "execution_count": 52,
   "id": "66aa23eb",
   "metadata": {},
   "outputs": [
    {
     "data": {
      "text/plain": [
       "[array([[-0.51549643,  1.06786246, -1.79547785,  0.26240305],\n",
       "        [-2.0240189 , -0.18390299, -0.24005669, -0.48743185]]),\n",
       " array([[-1.40216207],\n",
       "        [ 1.90156296],\n",
       "        [-1.66920773],\n",
       "        [ 0.62396727]]),\n",
       " array([[1.14842685]])]"
      ]
     },
     "execution_count": 52,
     "metadata": {},
     "output_type": "execute_result"
    }
   ],
   "source": [
    "clf.coefs_"
   ]
  },
  {
   "cell_type": "code",
   "execution_count": 34,
   "id": "a8dbb020",
   "metadata": {},
   "outputs": [
    {
     "data": {
      "text/plain": [
       "0.8285714285714286"
      ]
     },
     "execution_count": 34,
     "metadata": {},
     "output_type": "execute_result"
    }
   ],
   "source": [
    "clf.score(X_train, Y_train)"
   ]
  },
  {
   "cell_type": "code",
   "execution_count": 46,
   "id": "42badf9f",
   "metadata": {},
   "outputs": [],
   "source": [
    "#Plotting decision boundary\n",
    "def plot_decision_boundary(pred_func):\n",
    "    # Set min and max values and give it some padding\n",
    "    x_min, x_max = X_train[:, 0].min() - .5, X_train[:, 0].max() + .5\n",
    "    y_min, y_max = X_train[:, 1].min() - .5, X_train[:, 1].max() + .5\n",
    "    h = 0.01\n",
    "    # Generate a grid of points with distance h between them\n",
    "    xx, yy = np.meshgrid(np.arange(x_min, x_max, h), np.arange(y_min, y_max, h))\n",
    "    # Predict the function value for the whole gid\n",
    "    Z = pred_func(np.c_[xx.ravel(), yy.ravel()])\n",
    "    Z = Z.reshape(xx.shape)\n",
    "    # Plot the contour and training examples\n",
    "    plt.contourf(xx, yy, Z, cmap=plt.cm.Spectral)\n",
    "    plt.scatter(X_train[:, 0], X_train[:, 1], c=Y_train, cmap=plt.cm.Spectral)"
   ]
  },
  {
   "cell_type": "code",
   "execution_count": 47,
   "id": "4f973c23",
   "metadata": {},
   "outputs": [
    {
     "data": {
      "text/plain": [
       "Text(0.5, 1.0, 'MLP Classifier')"
      ]
     },
     "execution_count": 47,
     "metadata": {},
     "output_type": "execute_result"
    },
    {
     "data": {
      "image/png": "[encoded data removed]",
      "text/plain": [
       "<Figure size 432x288 with 1 Axes>"
      ]
     },
     "metadata": {
      "needs_background": "light"
     },
     "output_type": "display_data"
    }
   ],
   "source": [
    "# Plot the decision boundary\n",
    "plot_decision_boundary(lambda x: clf.predict(x))\n",
    "plt.title(\"MLP Classifier\")"
   ]
  },
  {
   "cell_type": "code",
   "execution_count": 49,
   "id": "1c2818c0",
   "metadata": {},
   "outputs": [],
   "source": [
    "predictions = clf.predict(X_test)"
   ]
  },
  {
   "cell_type": "code",
   "execution_count": 50,
   "id": "b0ea0614",
   "metadata": {},
   "outputs": [],
   "source": [
    "np.savetxt('mlp_sklearn_test.txt', predictions, fmt ='%.0f\\n')"
   ]
  },
  {
   "cell_type": "code",
   "execution_count": 51,
   "id": "13fccca2",
   "metadata": {},
   "outputs": [
    {
     "data": {
      "image/png": "[encoded data removed]",
      "text/plain": [
       "<Figure size 432x288 with 2 Axes>"
      ]
     },
     "metadata": {
      "needs_background": "light"
     },
     "output_type": "display_data"
    }
   ],
   "source": [
    "from sklearn.metrics import confusion_matrix, ConfusionMatrixDisplay\n",
    "cm = confusion_matrix(Y_train, y_pred)\n",
    "disp = ConfusionMatrixDisplay(confusion_matrix=cm)\n",
    "disp.plot()\n",
    "plt.show()"
   ]
  }
 ],
 "metadata": {
  "kernelspec": {
   "display_name": "Python 3",
   "language": "python",
   "name": "python3"
  },
  "language_info": {
   "codemirror_mode": {
    "name": "ipython",
    "version": 3
   },
   "file_extension": ".py",
   "mimetype": "text/x-python",
   "name": "python",
   "nbconvert_exporter": "python",
   "pygments_lexer": "ipython3",
   "version": "3.8.8"
  }
 },
 "nbformat": 4,
 "nbformat_minor": 5
}
