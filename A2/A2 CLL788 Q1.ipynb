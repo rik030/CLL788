{
 "cells": [
  {
   "cell_type": "code",
   "execution_count": 141,
   "id": "c26491ab",
   "metadata": {},
   "outputs": [
    {
     "data": {
      "text/html": [
       "<div>\n",
       "<style scoped>\n",
       "    .dataframe tbody tr th:only-of-type {\n",
       "        vertical-align: middle;\n",
       "    }\n",
       "\n",
       "    .dataframe tbody tr th {\n",
       "        vertical-align: top;\n",
       "    }\n",
       "\n",
       "    .dataframe thead th {\n",
       "        text-align: right;\n",
       "    }\n",
       "</style>\n",
       "<table border=\"1\" class=\"dataframe\">\n",
       "  <thead>\n",
       "    <tr style=\"text-align: right;\">\n",
       "      <th></th>\n",
       "      <th>Aptitude</th>\n",
       "      <th>Verbal</th>\n",
       "      <th>Label</th>\n",
       "    </tr>\n",
       "  </thead>\n",
       "  <tbody>\n",
       "    <tr>\n",
       "      <th>0</th>\n",
       "      <td>34.723660</td>\n",
       "      <td>30.386711</td>\n",
       "      <td>0</td>\n",
       "    </tr>\n",
       "    <tr>\n",
       "      <th>1</th>\n",
       "      <td>30.386711</td>\n",
       "      <td>35.947409</td>\n",
       "      <td>0</td>\n",
       "    </tr>\n",
       "    <tr>\n",
       "      <th>2</th>\n",
       "      <td>35.947409</td>\n",
       "      <td>60.282599</td>\n",
       "      <td>0</td>\n",
       "    </tr>\n",
       "    <tr>\n",
       "      <th>3</th>\n",
       "      <td>45.183277</td>\n",
       "      <td>61.206665</td>\n",
       "      <td>0</td>\n",
       "    </tr>\n",
       "    <tr>\n",
       "      <th>4</th>\n",
       "      <td>95.961555</td>\n",
       "      <td>75.113658</td>\n",
       "      <td>0</td>\n",
       "    </tr>\n",
       "  </tbody>\n",
       "</table>\n",
       "</div>"
      ],
      "text/plain": [
       "    Aptitude     Verbal  Label\n",
       "0  34.723660  30.386711      0\n",
       "1  30.386711  35.947409      0\n",
       "2  35.947409  60.282599      0\n",
       "3  45.183277  61.206665      0\n",
       "4  95.961555  75.113658      0"
      ]
     },
     "execution_count": 141,
     "metadata": {},
     "output_type": "execute_result"
    }
   ],
   "source": [
    "import numpy as np \n",
    "import pandas as pd \n",
    "import matplotlib.pyplot as plt \n",
    "import time  \n",
    "\n",
    "train_data=pd.read_excel(\"C:/Users/risha/Downloads/q1train.xlsx\")\n",
    "test_data=pd.read_excel(\"C:/Users/risha/Downloads/q1test.xlsx\")\n",
    "\n",
    "train_data.head() "
   ]
  },
  {
   "cell_type": "code",
   "execution_count": 180,
   "id": "8a25c7b7",
   "metadata": {},
   "outputs": [],
   "source": [
    "d=train_data.to_numpy()\n",
    "X=d[:,0:2]\n",
    "Y=d[:,-1]"
   ]
  },
  {
   "cell_type": "code",
   "execution_count": 177,
   "id": "db3a01d5",
   "metadata": {},
   "outputs": [],
   "source": [
    "#Normalizing Dataset\n",
    "from sklearn import preprocessing\n",
    "import numpy as np\n",
    "scaler = preprocessing.StandardScaler().fit(X)\n",
    "X = scaler.transform(X)"
   ]
  },
  {
   "cell_type": "code",
   "execution_count": 181,
   "id": "f03dc480",
   "metadata": {},
   "outputs": [],
   "source": [
    "a=np.ones(X.shape[0])\n",
    "a=np.expand_dims(a, axis=1)\n",
    "X=np.append(a, X, axis=1)"
   ]
  },
  {
   "cell_type": "code",
   "execution_count": 144,
   "id": "a2170338",
   "metadata": {},
   "outputs": [],
   "source": [
    "#Target Encoding\n",
    "te=np.empty((Y.shape[0],1))\n",
    "for i in range(Y.shape[0]):\n",
    "    if(Y[i]==0):\n",
    "        te[i]=-1\n",
    "    else:\n",
    "        te[i]=1"
   ]
  },
  {
   "cell_type": "code",
   "execution_count": 145,
   "id": "f5c239f0",
   "metadata": {},
   "outputs": [],
   "source": [
    "#Signum Function\n",
    "def signum(x):\n",
    "    if x>=0:\n",
    "        return 1\n",
    "    else: \n",
    "        return -1"
   ]
  },
  {
   "cell_type": "code",
   "execution_count": 161,
   "id": "720b2d3e",
   "metadata": {},
   "outputs": [],
   "source": [
    "alpha = 0.001 \n",
    "m = te.size \n",
    "weights = np.array([np.random.random(1)[0],np.random.random(1)[0],np.random.random(1)[0]])\n",
    "final_weights=np.empty((3,1))\n",
    "epochs=10000\n",
    "tot_cost=[]\n",
    "loss=[]\n",
    "prev_cost=np.inf\n",
    "for i in range(epochs):\n",
    "    for j in range(m):\n",
    "        pred=X[j,:].dot(weights)\n",
    "        y_pred=signum(pred)\n",
    "        cc=pred*te[j]\n",
    "        if(cc<0):\n",
    "            weights=weights+alpha*X[j,:]*te[j]\n",
    "            loss=-X[j,:].dot(weights)*te[j]\n",
    "    loss_np=np.array(loss)\n",
    "    cost=np.sum(loss_np)\n",
    "    if(cost<prev_cost):\n",
    "        final_weights=weights\n",
    "    tot_cost.append(cost)\n",
    "    prev_cost=cost"
   ]
  },
  {
   "cell_type": "code",
   "execution_count": 162,
   "id": "5a4fd65c",
   "metadata": {},
   "outputs": [
    {
     "data": {
      "text/plain": [
       "array([-5.64162927,  0.17295387, -0.02708792])"
      ]
     },
     "execution_count": 162,
     "metadata": {},
     "output_type": "execute_result"
    }
   ],
   "source": [
    "weights"
   ]
  },
  {
   "cell_type": "code",
   "execution_count": 163,
   "id": "470b1000",
   "metadata": {},
   "outputs": [
    {
     "data": {
      "text/plain": [
       "array([-5.64162927,  0.17295387, -0.02708792])"
      ]
     },
     "execution_count": 163,
     "metadata": {},
     "output_type": "execute_result"
    }
   ],
   "source": [
    "final_weights"
   ]
  },
  {
   "cell_type": "code",
   "execution_count": 164,
   "id": "52a681f4",
   "metadata": {},
   "outputs": [
    {
     "data": {
      "image/png": "[encoded data removed]",
      "text/plain": [
       "<Figure size 432x288 with 1 Axes>"
      ]
     },
     "metadata": {
      "needs_background": "light"
     },
     "output_type": "display_data"
    }
   ],
   "source": [
    "plt.title('Cost Function J')\n",
    "plt.xlabel('No. of iterations')\n",
    "plt.ylabel('Cost')\n",
    "plt.plot(tot_cost)\n",
    "plt.show()"
   ]
  },
  {
   "cell_type": "code",
   "execution_count": 165,
   "id": "7392d1f3",
   "metadata": {},
   "outputs": [],
   "source": [
    "ypred=[]\n",
    "for i in range(X.shape[0]):\n",
    "    ypred.append(signum(X[i,:].dot(final_weights)))"
   ]
  },
  {
   "cell_type": "code",
   "execution_count": 166,
   "id": "efda0a30",
   "metadata": {},
   "outputs": [
    {
     "name": "stdout",
     "output_type": "stream",
     "text": [
      "Accuracy on training set: 71.01449275362319 %\n"
     ]
    }
   ],
   "source": [
    "#Training Accuracy\n",
    "ct = 0    \n",
    "correctly_classified=0\n",
    "for ct in range(np.size(ypred)):  \n",
    "    if (te[ct] == ypred[ct]) :            \n",
    "        correctly_classified = correctly_classified + 1       \n",
    "          \n",
    "print( \"Accuracy on training set:\", ( correctly_classified / ct ) * 100,\"%\")"
   ]
  },
  {
   "cell_type": "code",
   "execution_count": 167,
   "id": "a38ff8ee",
   "metadata": {},
   "outputs": [],
   "source": [
    "ypred=np.array(ypred)"
   ]
  },
  {
   "cell_type": "code",
   "execution_count": 168,
   "id": "a4690b24",
   "metadata": {},
   "outputs": [
    {
     "data": {
      "text/plain": [
       "array([-1, -1, -1,  1,  1,  1, -1,  1,  1,  1, -1,  1,  1, -1,  1, -1,  1,\n",
       "       -1,  1, -1,  1,  1,  1,  1, -1,  1,  1, -1, -1,  1, -1,  1,  1,  1,\n",
       "        1,  1,  1,  1,  1,  1,  1,  1,  1,  1,  1,  1,  1,  1,  1,  1,  1,\n",
       "        1,  1,  1,  1,  1,  1,  1,  1,  1,  1,  1,  1,  1,  1,  1,  1,  1,\n",
       "        1,  1])"
      ]
     },
     "execution_count": 168,
     "metadata": {},
     "output_type": "execute_result"
    }
   ],
   "source": [
    "ypred.T"
   ]
  },
  {
   "cell_type": "code",
   "execution_count": 169,
   "id": "f3a6ed07",
   "metadata": {},
   "outputs": [],
   "source": [
    "ypred=np.expand_dims(ypred,axis=1)"
   ]
  },
  {
   "cell_type": "code",
   "execution_count": 170,
   "id": "5a2e8f53",
   "metadata": {},
   "outputs": [
    {
     "data": {
      "image/png": "[encoded data removed]",
      "text/plain": [
       "<Figure size 432x288 with 2 Axes>"
      ]
     },
     "metadata": {
      "needs_background": "light"
     },
     "output_type": "display_data"
    }
   ],
   "source": [
    "from sklearn.metrics import confusion_matrix, ConfusionMatrixDisplay\n",
    "cm = confusion_matrix(te, ypred)\n",
    "disp = ConfusionMatrixDisplay(confusion_matrix=cm)\n",
    "disp.plot()\n",
    "plt.show()"
   ]
  },
  {
   "cell_type": "code",
   "execution_count": 171,
   "id": "349572ab",
   "metadata": {},
   "outputs": [
    {
     "name": "stdout",
     "output_type": "stream",
     "text": [
      "    Aptitude     Verbal\n",
      "0  32.822833  43.407173\n",
      "1  64.139320  78.131688\n",
      "2  72.446494  96.327593\n",
      "3  60.557886  73.194998\n",
      "4  58.940956  75.958448\n"
     ]
    }
   ],
   "source": [
    "#Prediction on test data\n",
    "test_data= pd.read_excel(\"CLL788_A1/q2test.xlsx\")\n",
    "print(test_data.head()) \n",
    "test_data.insert(loc=0, column='intercept', value=1.0)\n",
    "d=test_data.to_numpy()\n",
    "X_test=d[:,0:3]"
   ]
  },
  {
   "cell_type": "code",
   "execution_count": 172,
   "id": "95d61c5b",
   "metadata": {},
   "outputs": [],
   "source": [
    "ypred_test=[]\n",
    "for i in range(X_test.shape[0]):\n",
    "    ypred_test.append(signum(X_test[i,:].dot(final_weights)))\n",
    "ypred_test=np.array(ypred_test) \n",
    "# print(ypred_test)\n",
    "ypred_test = np.where(ypred_test > 0, 1, 0) "
   ]
  },
  {
   "cell_type": "code",
   "execution_count": 173,
   "id": "3c3fc677",
   "metadata": {},
   "outputs": [
    {
     "data": {
      "text/plain": [
       "array([0, 1, 1, 1, 1, 1, 1, 1, 1, 1, 1, 1, 1, 1, 1, 1, 0, 1, 1, 1, 1, 1,\n",
       "       1, 1, 1, 1, 0, 1, 1, 1])"
      ]
     },
     "execution_count": 173,
     "metadata": {},
     "output_type": "execute_result"
    }
   ],
   "source": [
    "ypred_test"
   ]
  },
  {
   "cell_type": "code",
   "execution_count": 174,
   "id": "2c71bb81",
   "metadata": {},
   "outputs": [],
   "source": [
    "np.savetxt('perceptron_test.txt', ypred_test, fmt ='%.0f\\n')"
   ]
  },
  {
   "cell_type": "code",
   "execution_count": 182,
   "id": "85c28c45",
   "metadata": {},
   "outputs": [],
   "source": [
    "def plot_data(inputs,targets,weights):\n",
    "    # fig config\n",
    "    plt.figure(figsize=(10,5))\n",
    "    plt.ylabel('x2')\n",
    "    plt.xlabel('x1')\n",
    "    plt.grid(True)\n",
    "    plt.title(\"Decision Boundary for Perceptron \")\n",
    "\n",
    "    for input,target in zip(X[:,1:3],Y):\n",
    "        plt.plot(input[0],input[1],'ro' if (target == 1.0) else 'bo')\n",
    "\n",
    "    # Here i am calculating slope and intercept with given three weights\n",
    "    for i in np.linspace(np.amin(inputs[:,1:3]),np.amax(inputs[:,1:3])):\n",
    "        slope = -(weights[0]/weights[2])/(weights[0]/weights[1])  \n",
    "        intercept = -weights[0]/weights[2]\n",
    "\n",
    "        #y =mx+c, m is slope and c is intercept\n",
    "        y = (slope*i) + intercept\n",
    "#         print(i)\n",
    "        plt.plot(i, y,'ko')"
   ]
  },
  {
   "cell_type": "code",
   "execution_count": 183,
   "id": "0a277240",
   "metadata": {},
   "outputs": [
    {
     "data": {
      "image/png": "[encoded data removed]",
      "text/plain": [
       "<Figure size 720x360 with 1 Axes>"
      ]
     },
     "metadata": {
      "needs_background": "light"
     },
     "output_type": "display_data"
    }
   ],
   "source": [
    "plot_data(X,Y,final_weights)"
   ]
  },
  {
   "cell_type": "code",
   "execution_count": null,
   "id": "fda34d81",
   "metadata": {},
   "outputs": [],
   "source": []
  }
 ],
 "metadata": {
  "kernelspec": {
   "display_name": "Python 3",
   "language": "python",
   "name": "python3"
  },
  "language_info": {
   "codemirror_mode": {
    "name": "ipython",
    "version": 3
   },
   "file_extension": ".py",
   "mimetype": "text/x-python",
   "name": "python",
   "nbconvert_exporter": "python",
   "pygments_lexer": "ipython3",
   "version": "3.8.8"
  }
 },
 "nbformat": 4,
 "nbformat_minor": 5
}
