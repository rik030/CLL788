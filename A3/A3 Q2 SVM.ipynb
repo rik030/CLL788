{
 "cells": [
  {
   "cell_type": "code",
   "execution_count": 1,
   "id": "75eab331",
   "metadata": {},
   "outputs": [],
   "source": [
    "import numpy as np\n",
    "import matplotlib.pyplot as plt\n",
    "import pandas as pd\n",
    "import seaborn as sns"
   ]
  },
  {
   "cell_type": "code",
   "execution_count": 2,
   "id": "b59e997e",
   "metadata": {},
   "outputs": [],
   "source": [
    "#Loading dataset\n",
    "data=pd.read_excel(\"C:/Users/risha/Downloads/Data1.xlsx\")"
   ]
  },
  {
   "cell_type": "code",
   "execution_count": 3,
   "id": "138388fb",
   "metadata": {},
   "outputs": [
    {
     "data": {
      "text/html": [
       "<div>\n",
       "<style scoped>\n",
       "    .dataframe tbody tr th:only-of-type {\n",
       "        vertical-align: middle;\n",
       "    }\n",
       "\n",
       "    .dataframe tbody tr th {\n",
       "        vertical-align: top;\n",
       "    }\n",
       "\n",
       "    .dataframe thead th {\n",
       "        text-align: right;\n",
       "    }\n",
       "</style>\n",
       "<table border=\"1\" class=\"dataframe\">\n",
       "  <thead>\n",
       "    <tr style=\"text-align: right;\">\n",
       "      <th></th>\n",
       "      <th>Variable 1</th>\n",
       "      <th>Variable 2</th>\n",
       "      <th>Class</th>\n",
       "    </tr>\n",
       "  </thead>\n",
       "  <tbody>\n",
       "    <tr>\n",
       "      <th>0</th>\n",
       "      <td>1.9743</td>\n",
       "      <td>4.6057</td>\n",
       "      <td>1</td>\n",
       "    </tr>\n",
       "    <tr>\n",
       "      <th>1</th>\n",
       "      <td>2.2853</td>\n",
       "      <td>3.8689</td>\n",
       "      <td>1</td>\n",
       "    </tr>\n",
       "    <tr>\n",
       "      <th>2</th>\n",
       "      <td>2.9881</td>\n",
       "      <td>4.5751</td>\n",
       "      <td>1</td>\n",
       "    </tr>\n",
       "    <tr>\n",
       "      <th>3</th>\n",
       "      <td>2.9420</td>\n",
       "      <td>3.5619</td>\n",
       "      <td>1</td>\n",
       "    </tr>\n",
       "    <tr>\n",
       "      <th>4</th>\n",
       "      <td>3.5872</td>\n",
       "      <td>2.8660</td>\n",
       "      <td>1</td>\n",
       "    </tr>\n",
       "  </tbody>\n",
       "</table>\n",
       "</div>"
      ],
      "text/plain": [
       "   Variable 1  Variable 2  Class\n",
       "0      1.9743      4.6057      1\n",
       "1      2.2853      3.8689      1\n",
       "2      2.9881      4.5751      1\n",
       "3      2.9420      3.5619      1\n",
       "4      3.5872      2.8660      1"
      ]
     },
     "execution_count": 3,
     "metadata": {},
     "output_type": "execute_result"
    }
   ],
   "source": [
    "data.head()"
   ]
  },
  {
   "cell_type": "code",
   "execution_count": 4,
   "id": "d3a7b7d5",
   "metadata": {},
   "outputs": [],
   "source": [
    "#assigning X train, Y train, X test\n",
    "tr=data.to_numpy()\n",
    "X=tr[:,0:2]\n",
    "Y=tr[:,-1]"
   ]
  },
  {
   "cell_type": "code",
   "execution_count": 5,
   "id": "e15c26f3",
   "metadata": {},
   "outputs": [
    {
     "data": {
      "image/png": "[encoded data removed]",
      "text/plain": [
       "<Figure size 432x288 with 1 Axes>"
      ]
     },
     "metadata": {
      "needs_background": "light"
     },
     "output_type": "display_data"
    }
   ],
   "source": [
    "#Plotting Data\n",
    "def plot(x, y):\n",
    "    ax=sns.scatterplot(x=x[:,0], y=x[:, 1], style=y, hue=y, palette=['blue', 'red']).set_title(\"Data Distribution\")\n",
    "    plt.xlabel(\"Variable 1\")\n",
    "    plt.ylabel(\"Variable 2\")\n",
    "plot(X,Y)    "
   ]
  },
  {
   "cell_type": "code",
   "execution_count": 6,
   "id": "6ec15540",
   "metadata": {},
   "outputs": [],
   "source": [
    "# For optimization\n",
    "from scipy.optimize import Bounds, BFGS                     \n",
    "from scipy.optimize import LinearConstraint, minimize "
   ]
  },
  {
   "cell_type": "code",
   "execution_count": 7,
   "id": "870557fd",
   "metadata": {},
   "outputs": [],
   "source": [
    "#Defining Lagrangian Dual\n",
    "ZERO= 1e-7\n",
    "def lagrange_dual(lambd, x, t):\n",
    "    result = 0\n",
    "    ind = np.where(lambd > ZERO)[0]\n",
    "    for i in ind:\n",
    "        for k in ind:\n",
    "            result = result + lambd[i]*lambd[k]*t[i]*t[k]*np.dot(x[i, :], x[k, :]) \n",
    "    result = 0.5*result - sum(lambd)     \n",
    "    return result"
   ]
  },
  {
   "cell_type": "code",
   "execution_count": 8,
   "id": "a44263b4",
   "metadata": {},
   "outputs": [],
   "source": [
    "#optimizing lambda, defining constraints\n",
    "def optimize_lambda(x, t, C):\n",
    "    m, n = x.shape\n",
    "    lambda_0 = np.random.rand(m)*C\n",
    "    linear_constraint = LinearConstraint(t, [0], [0])\n",
    "    bounds_lambda = Bounds(np.zeros(m), np.full(m, C))\n",
    "    result = minimize(lagrange_dual, lambda_0, args = (x, t), method='trust-constr', hess=BFGS(), constraints=[linear_constraint],\n",
    "                      bounds=bounds_lambda)\n",
    "    lambd = result.x\n",
    "    return lambd"
   ]
  },
  {
   "cell_type": "code",
   "execution_count": 9,
   "id": "092bce45",
   "metadata": {},
   "outputs": [],
   "source": [
    "#Model parameters, weights and bias calculation\n",
    "def get_w(lambd, t, x):\n",
    "    m = len(x)\n",
    "    w = np.zeros(x.shape[1])\n",
    "    for i in range(m):\n",
    "        w = w + lambd[i]*t[i]*x[i, :]        \n",
    "    return w\n",
    " \n",
    "def get_b(lambd, t, x, w, C):\n",
    "    C_numeric = C-ZERO\n",
    "    ind = np.where((lambd > ZERO)&(lambd < C_numeric))[0]\n",
    "    b = 0.0\n",
    "    for s in ind:\n",
    "        b = b + t[s] - np.dot(x[s, :], w)  \n",
    "    b = b / len(ind)\n",
    "    return b"
   ]
  },
  {
   "cell_type": "code",
   "execution_count": 10,
   "id": "1a6dadc9",
   "metadata": {},
   "outputs": [],
   "source": [
    "def classify_points(x, w, b):\n",
    "    # get y(x_test)\n",
    "    predicted = np.sum(x*w, axis=1) + b\n",
    "    predicted = np.sign(predicted)\n",
    "    predicted[predicted==0] = 1\n",
    "    return predicted"
   ]
  },
  {
   "cell_type": "code",
   "execution_count": 11,
   "id": "b7ca366f",
   "metadata": {},
   "outputs": [],
   "source": [
    "def plot_x(x, t, lambd=[], C=0):\n",
    "    sns.scatterplot(x[:,0], x[:, 1], style=t,\n",
    "    hue=t, markers=['s', 'P'],\n",
    "    palette=['magenta', 'green'])\n",
    "    if len(lambd) > 0:\n",
    "        lambd_str = np.char.mod('%.1f', np.round(lambd, 1))\n",
    "        ind = np.where(lambd > ZERO)[0]\n",
    "        for i in ind:   \n",
    "            plt.gca().text(x[i,0], x[i, 1]-.25, lambd_str[i] )"
   ]
  },
  {
   "cell_type": "code",
   "execution_count": 12,
   "id": "c393bdcb",
   "metadata": {},
   "outputs": [],
   "source": [
    "#Plotting Margin and Hyperplane\n",
    "def plot_hyperplane(w, b):\n",
    "    x_coord = np.array(plt.gca().get_xlim())\n",
    "    y_coord = -b/w[1] - w[0]/w[1] * x_coord\n",
    "    plt.plot(x_coord, y_coord, color='red')\n",
    "\n",
    "def plot_margin(w, b):\n",
    "    x_coord = np.array(plt.gca().get_xlim())\n",
    "    ypos_coord = 1/w[1] - b/w[1] - w[0]/w[1] * x_coord\n",
    "    plt.plot(x_coord, ypos_coord, '--', color='green') \n",
    "    yneg_coord = -1/w[1] - b/w[1] - w[0]/w[1] * x_coord\n",
    "    plt.plot(x_coord, yneg_coord, '--', color='blue')"
   ]
  },
  {
   "cell_type": "code",
   "execution_count": 15,
   "id": "cf6cd55f",
   "metadata": {},
   "outputs": [
    {
     "name": "stderr",
     "output_type": "stream",
     "text": [
      "C:\\Users\\risha\\anaconda3\\lib\\site-packages\\seaborn\\_decorators.py:36: FutureWarning: Pass the following variables as keyword args: x, y. From version 0.12, the only valid positional argument will be `data`, and passing other arguments without an explicit keyword will result in an error or misinterpretation.\n",
      "  warnings.warn(\n"
     ]
    },
    {
     "data": {
      "image/png": "[encoded data removed]",
      "text/plain": [
       "<Figure size 576x1800 with 1 Axes>"
      ]
     },
     "metadata": {
      "needs_background": "light"
     },
     "output_type": "display_data"
    }
   ],
   "source": [
    "#Plotting\n",
    "def display_SVM_result(x, t, C):\n",
    "    # Get the alphas\n",
    "    lambd = optimize_lambda(x, t, C)   \n",
    "    # Get the weights\n",
    "    w = get_w(lambd, t, x)\n",
    "    b = get_b(lambd, t, x, w, C)\n",
    "    plot_x(x, t, lambd, C)\n",
    "    xlim = plt.gca().get_xlim()\n",
    "    ylim = plt.gca().get_ylim()\n",
    "    plot_hyperplane(w, b)\n",
    "    plot_margin(w, b)\n",
    "    plt.xlim(xlim)\n",
    "    plt.ylim(ylim)\n",
    "    # Get the misclassification error and display it as title\n",
    "    predictions = classify_points(x, w, b)\n",
    "    title = 'C = ' + str(C) \n",
    "#     title = title + ',  total SV = ' + str(len(alpha[alpha > ZERO]))\n",
    "    plt.title(title)\n",
    "    return w,b\n",
    "    \n",
    "fig = plt.figure(figsize=(8,25))\n",
    "\n",
    "i=0\n",
    "C_array = [1]\n",
    "\n",
    "for C in C_array:\n",
    "    fig.add_subplot(311+i)    \n",
    "    w,b= display_SVM_result(X, Y, C)  \n",
    "    i = i + 1"
   ]
  },
  {
   "cell_type": "code",
   "execution_count": 17,
   "id": "bc8368be",
   "metadata": {},
   "outputs": [
    {
     "data": {
      "text/plain": [
       "(array([1.46838317, 2.00128397]), -9.860366657974234)"
      ]
     },
     "execution_count": 17,
     "metadata": {},
     "output_type": "execute_result"
    }
   ],
   "source": [
    "w,b"
   ]
  }
 ],
 "metadata": {
  "kernelspec": {
   "display_name": "Python 3",
   "language": "python",
   "name": "python3"
  },
  "language_info": {
   "codemirror_mode": {
    "name": "ipython",
    "version": 3
   },
   "file_extension": ".py",
   "mimetype": "text/x-python",
   "name": "python",
   "nbconvert_exporter": "python",
   "pygments_lexer": "ipython3",
   "version": "3.8.8"
  }
 },
 "nbformat": 4,
 "nbformat_minor": 5
}
