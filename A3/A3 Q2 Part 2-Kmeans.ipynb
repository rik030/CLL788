{
 "cells": [
  {
   "cell_type": "code",
   "execution_count": 1,
   "id": "75eab331",
   "metadata": {},
   "outputs": [],
   "source": [
    "import numpy as np\n",
    "import matplotlib.pyplot as plt\n",
    "import pandas as pd\n",
    "import seaborn as sns"
   ]
  },
  {
   "cell_type": "code",
   "execution_count": 2,
   "id": "b59e997e",
   "metadata": {},
   "outputs": [],
   "source": [
    "#Loading dataset\n",
    "data=pd.read_excel(\"C:/Users/risha/Downloads/Data1.xlsx\")"
   ]
  },
  {
   "cell_type": "code",
   "execution_count": 3,
   "id": "138388fb",
   "metadata": {},
   "outputs": [
    {
     "data": {
      "text/html": [
       "<div>\n",
       "<style scoped>\n",
       "    .dataframe tbody tr th:only-of-type {\n",
       "        vertical-align: middle;\n",
       "    }\n",
       "\n",
       "    .dataframe tbody tr th {\n",
       "        vertical-align: top;\n",
       "    }\n",
       "\n",
       "    .dataframe thead th {\n",
       "        text-align: right;\n",
       "    }\n",
       "</style>\n",
       "<table border=\"1\" class=\"dataframe\">\n",
       "  <thead>\n",
       "    <tr style=\"text-align: right;\">\n",
       "      <th></th>\n",
       "      <th>Variable 1</th>\n",
       "      <th>Variable 2</th>\n",
       "      <th>Class</th>\n",
       "    </tr>\n",
       "  </thead>\n",
       "  <tbody>\n",
       "    <tr>\n",
       "      <th>0</th>\n",
       "      <td>1.9743</td>\n",
       "      <td>4.6057</td>\n",
       "      <td>1</td>\n",
       "    </tr>\n",
       "    <tr>\n",
       "      <th>1</th>\n",
       "      <td>2.2853</td>\n",
       "      <td>3.8689</td>\n",
       "      <td>1</td>\n",
       "    </tr>\n",
       "    <tr>\n",
       "      <th>2</th>\n",
       "      <td>2.9881</td>\n",
       "      <td>4.5751</td>\n",
       "      <td>1</td>\n",
       "    </tr>\n",
       "    <tr>\n",
       "      <th>3</th>\n",
       "      <td>2.9420</td>\n",
       "      <td>3.5619</td>\n",
       "      <td>1</td>\n",
       "    </tr>\n",
       "    <tr>\n",
       "      <th>4</th>\n",
       "      <td>3.5872</td>\n",
       "      <td>2.8660</td>\n",
       "      <td>1</td>\n",
       "    </tr>\n",
       "  </tbody>\n",
       "</table>\n",
       "</div>"
      ],
      "text/plain": [
       "   Variable 1  Variable 2  Class\n",
       "0      1.9743      4.6057      1\n",
       "1      2.2853      3.8689      1\n",
       "2      2.9881      4.5751      1\n",
       "3      2.9420      3.5619      1\n",
       "4      3.5872      2.8660      1"
      ]
     },
     "execution_count": 3,
     "metadata": {},
     "output_type": "execute_result"
    }
   ],
   "source": [
    "data.head()"
   ]
  },
  {
   "cell_type": "code",
   "execution_count": 4,
   "id": "d3a7b7d5",
   "metadata": {},
   "outputs": [],
   "source": [
    "tr=data.to_numpy()\n",
    "X=tr[:,0:2]"
   ]
  },
  {
   "cell_type": "code",
   "execution_count": 5,
   "id": "03dbbdb1",
   "metadata": {},
   "outputs": [
    {
     "data": {
      "image/png": "[encoded data removed]",
      "text/plain": [
       "<Figure size 800x600 with 1 Axes>"
      ]
     },
     "metadata": {
      "needs_background": "light"
     },
     "output_type": "display_data"
    }
   ],
   "source": [
    "#plotting data\n",
    "plt.rcParams.update({'figure.figsize':(8,6), 'figure.dpi':100})\n",
    "plt.scatter(X[:, 0], X[:, 1])\n",
    "plt.title(\"Data Distribution\")\n",
    "plt.xlabel(\"Variable 1\")\n",
    "plt.ylabel(\"Variable 2\")\n",
    "plt.show()"
   ]
  },
  {
   "cell_type": "code",
   "execution_count": 6,
   "id": "537de735",
   "metadata": {},
   "outputs": [],
   "source": [
    "#Assigning class to data points\n",
    "def update_assignments(data, centroids):\n",
    "    c = []\n",
    "    for i in data:\n",
    "        c.append(np.argmin(np.sqrt(np.sum((i.reshape((1, 2)) - centroids) ** 2, axis=1))))\n",
    "    return c"
   ]
  },
  {
   "cell_type": "code",
   "execution_count": 7,
   "id": "7d8f9398",
   "metadata": {},
   "outputs": [],
   "source": [
    "#Updating centroids\n",
    "def update_centroids(data, num_clusters, assignments):\n",
    "    cen = []\n",
    "    for c in range(len(num_clusters)):\n",
    "        cen.append(np.mean([data[x] for x in range(len(data)) if assignments[x] == c], axis=0))\n",
    "    return cen"
   ]
  },
  {
   "cell_type": "code",
   "execution_count": 8,
   "id": "f6422704",
   "metadata": {},
   "outputs": [],
   "source": [
    "#Stopping criteria\n",
    "def stop_criteria(old_centroids, new_centroids, thres=1e-5):\n",
    "    total_movement=0\n",
    "    total_movement=np.sqrt(np.sum((old_centroids - new_centroids) ** 2))\n",
    "#     print(total_movement)\n",
    "    return total_movement<thres   "
   ]
  },
  {
   "cell_type": "code",
   "execution_count": 9,
   "id": "1ba3fe9e",
   "metadata": {},
   "outputs": [],
   "source": [
    "#KMeans\n",
    "def Kmeans(X,k):\n",
    "    centroids = (np.random.normal(size=(k, 2)) * 0.01) + np.mean(X, axis=0).reshape((1, 2))\n",
    "    o_centroids=centroids\n",
    "    while True:\n",
    "        a = update_assignments(X, centroids)\n",
    "        centroids = update_centroids(X, centroids, a)\n",
    "        centroids = np.array(centroids)\n",
    "#         print(o_centroids, n_centroids)\n",
    "#         print(stop(o_centroids, n_centroids))\n",
    "        if stop_criteria(o_centroids, centroids):\n",
    "            break\n",
    "        o_centroids=centroids\n",
    "    return a,centroids        "
   ]
  },
  {
   "cell_type": "code",
   "execution_count": 10,
   "id": "3bbae321",
   "metadata": {},
   "outputs": [
    {
     "data": {
      "image/png": "[encoded data removed]",
      "text/plain": [
       "<Figure size 800x600 with 1 Axes>"
      ]
     },
     "metadata": {
      "needs_background": "light"
     },
     "output_type": "display_data"
    }
   ],
   "source": [
    "#Plotting\n",
    "labels, centroids=Kmeans(X,k=2)\n",
    "labels=np.array(labels)\n",
    "plt.scatter(centroids[:, 0], centroids[:, 1], color=['orange', 'magenta'])\n",
    "sns.scatterplot(x=X[:,0], y=X[:, 1], style=labels, hue=labels, palette=['blue', 'red']).set_title(\"Data Distribution\")\n",
    "plt.xlabel(\"Variable 1\")\n",
    "plt.ylabel(\"Variable 2\")\n",
    "plt.show()"
   ]
  },
  {
   "cell_type": "code",
   "execution_count": 12,
   "id": "0ec572ab",
   "metadata": {},
   "outputs": [
    {
     "data": {
      "text/plain": [
       "array([[1.828335, 2.67121 ],\n",
       "       [3.063565, 3.800865]])"
      ]
     },
     "execution_count": 12,
     "metadata": {},
     "output_type": "execute_result"
    }
   ],
   "source": [
    "centroids"
   ]
  },
  {
   "cell_type": "code",
   "execution_count": null,
   "id": "5a61647e",
   "metadata": {},
   "outputs": [],
   "source": []
  }
 ],
 "metadata": {
  "kernelspec": {
   "display_name": "Python 3",
   "language": "python",
   "name": "python3"
  },
  "language_info": {
   "codemirror_mode": {
    "name": "ipython",
    "version": 3
   },
   "file_extension": ".py",
   "mimetype": "text/x-python",
   "name": "python",
   "nbconvert_exporter": "python",
   "pygments_lexer": "ipython3",
   "version": "3.8.8"
  }
 },
 "nbformat": 4,
 "nbformat_minor": 5
}
