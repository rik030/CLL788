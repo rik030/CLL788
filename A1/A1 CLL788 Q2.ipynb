{
 "cells": [
  {
   "cell_type": "code",
   "execution_count": 1,
   "id": "d616eaa1",
   "metadata": {},
   "outputs": [
    {
     "data": {
      "text/html": [
       "<div>\n",
       "<style scoped>\n",
       "    .dataframe tbody tr th:only-of-type {\n",
       "        vertical-align: middle;\n",
       "    }\n",
       "\n",
       "    .dataframe tbody tr th {\n",
       "        vertical-align: top;\n",
       "    }\n",
       "\n",
       "    .dataframe thead th {\n",
       "        text-align: right;\n",
       "    }\n",
       "</style>\n",
       "<table border=\"1\" class=\"dataframe\">\n",
       "  <thead>\n",
       "    <tr style=\"text-align: right;\">\n",
       "      <th></th>\n",
       "      <th>Population in 10,000's</th>\n",
       "      <th>Profit In Lakhs(Rs)</th>\n",
       "    </tr>\n",
       "  </thead>\n",
       "  <tbody>\n",
       "    <tr>\n",
       "      <th>0</th>\n",
       "      <td>6.2101</td>\n",
       "      <td>17.6920</td>\n",
       "    </tr>\n",
       "    <tr>\n",
       "      <th>1</th>\n",
       "      <td>5.6277</td>\n",
       "      <td>9.2302</td>\n",
       "    </tr>\n",
       "    <tr>\n",
       "      <th>2</th>\n",
       "      <td>8.6186</td>\n",
       "      <td>13.7620</td>\n",
       "    </tr>\n",
       "    <tr>\n",
       "      <th>3</th>\n",
       "      <td>7.1032</td>\n",
       "      <td>11.9540</td>\n",
       "    </tr>\n",
       "    <tr>\n",
       "      <th>4</th>\n",
       "      <td>5.9598</td>\n",
       "      <td>6.9233</td>\n",
       "    </tr>\n",
       "  </tbody>\n",
       "</table>\n",
       "</div>"
      ],
      "text/plain": [
       "   Population in 10,000's  Profit In Lakhs(Rs)\n",
       "0                  6.2101              17.6920\n",
       "1                  5.6277               9.2302\n",
       "2                  8.6186              13.7620\n",
       "3                  7.1032              11.9540\n",
       "4                  5.9598               6.9233"
      ]
     },
     "execution_count": 1,
     "metadata": {},
     "output_type": "execute_result"
    }
   ],
   "source": [
    "import numpy as np \n",
    "import pandas as pd \n",
    "import matplotlib.pyplot as plt \n",
    "import time  \n",
    "\n",
    "data= pd.read_excel(\"CLL788_A1/q1.xlsx\")\n",
    "\n",
    "data.head()   "
   ]
  },
  {
   "cell_type": "code",
   "execution_count": 2,
   "id": "3b55d29a",
   "metadata": {},
   "outputs": [],
   "source": [
    "data.insert(loc=0, column='intercept', value=1.0)"
   ]
  },
  {
   "cell_type": "code",
   "execution_count": 3,
   "id": "3677329e",
   "metadata": {},
   "outputs": [],
   "source": [
    "d=data.to_numpy()"
   ]
  },
  {
   "cell_type": "code",
   "execution_count": 4,
   "id": "93e28d99",
   "metadata": {},
   "outputs": [],
   "source": [
    "X=d[:,0:2]\n",
    "Y=d[:,-1]"
   ]
  },
  {
   "cell_type": "code",
   "execution_count": 35,
   "id": "74e526f0",
   "metadata": {},
   "outputs": [
    {
     "name": "stdout",
     "output_type": "stream",
     "text": [
      "Convergence Time: 0.08694052696228027\n",
      "Theta: [-2.1349679   1.01560453]\n",
      "No. of iterations to converge:  4561\n"
     ]
    }
   ],
   "source": [
    "#Batch LMS GRADIENT DESCENT\n",
    "start_time = time.time()\n",
    "alpha = 0.001 \n",
    "tol=1e-4\n",
    "m = Y.size \n",
    "theta = np.array([np.random.random(1)[0],np.random.random(1)[0]])\n",
    "cost=0\n",
    "prev_cost=99999\n",
    "cost_hist=[]\n",
    "while(abs(cost-prev_cost)>tol):\n",
    "    pred = X.dot(theta)\n",
    "    prev_cost = np.sum((X.dot(theta)-Y)**2)/(2*m)\n",
    "    theta = theta - alpha*(X.T.dot(pred-Y))/m\n",
    "    cost = np.sum((X.dot(theta)-Y)**2)/(2*m)\n",
    "    cost_hist.append(cost)\n",
    "print(\"Convergence Time:\", (time.time() - start_time)) \n",
    "print(\"Theta:\", theta)\n",
    "print(\"No. of iterations to converge: \", len(cost_hist))"
   ]
  },
  {
   "cell_type": "code",
   "execution_count": 36,
   "id": "0e91d353",
   "metadata": {},
   "outputs": [
    {
     "name": "stdout",
     "output_type": "stream",
     "text": [
      "Mean Square Error:  9.519508296356147\n"
     ]
    }
   ],
   "source": [
    "#Calculating accuracy\n",
    "y_pred=X.dot(theta)\n",
    "MSE=np.mean((Y-y_pred)**2)\n",
    "print(\"Mean Square Error: \", MSE)"
   ]
  },
  {
   "cell_type": "code",
   "execution_count": 37,
   "id": "2356d162",
   "metadata": {},
   "outputs": [
    {
     "data": {
      "image/png": "[encoded data removed]",
      "text/plain": [
       "<Figure size 432x288 with 1 Axes>"
      ]
     },
     "metadata": {
      "needs_background": "light"
     },
     "output_type": "display_data"
    }
   ],
   "source": [
    "plt.title('Cost Function J (Batch)')\n",
    "plt.xlabel('No. of iterations')\n",
    "plt.ylabel('Cost')\n",
    "plt.plot(cost_hist)\n",
    "plt.show()"
   ]
  },
  {
   "cell_type": "code",
   "execution_count": 38,
   "id": "3b8234c6",
   "metadata": {},
   "outputs": [
    {
     "name": "stdout",
     "output_type": "stream",
     "text": [
      "Convergence Time: 0.09822201728820801\n",
      "Theta: [-3.80030889  1.01762938]\n",
      "No. of iterations to converge:  309\n"
     ]
    }
   ],
   "source": [
    "#Stochastic LMS GRADIENT DESCENT\n",
    "start_time = time.time()\n",
    "alpha = 0.001 \n",
    "tol=1e-4\n",
    "m = Y.size \n",
    "theta = np.array([np.random.random(1)[0],np.random.random(1)[0]])\n",
    "cost=0\n",
    "prev_cost=99999\n",
    "cost_hist=[]\n",
    "while(abs(cost-prev_cost)>tol):\n",
    "    prev_cost = np.sum((X.dot(theta)-Y)**2)/2/m\n",
    "    for i in range(m):\n",
    "        pred = X[i].dot(theta)\n",
    "        theta = theta - alpha*(X[i].T.dot(pred-Y[i]))\n",
    "    cost = np.sum((X.dot(theta)-Y)**2)/2/m\n",
    "    #print(prev_cost, cost)\n",
    "    cost_hist.append(cost)\n",
    "print(\"Convergence Time:\", (time.time() - start_time)) \n",
    "print(\"Theta:\", theta)\n",
    "print(\"No. of iterations to converge: \", len(cost_hist))    "
   ]
  },
  {
   "cell_type": "code",
   "execution_count": 33,
   "id": "f2a70e53",
   "metadata": {},
   "outputs": [
    {
     "data": {
      "text/plain": [
       "array([-3.80019117,  1.01761601])"
      ]
     },
     "execution_count": 33,
     "metadata": {},
     "output_type": "execute_result"
    }
   ],
   "source": [
    "theta"
   ]
  },
  {
   "cell_type": "code",
   "execution_count": 34,
   "id": "c3215f12",
   "metadata": {},
   "outputs": [
    {
     "name": "stdout",
     "output_type": "stream",
     "text": [
      "Mean Square Error:  11.189636832591258\n"
     ]
    }
   ],
   "source": [
    "#Calculating accuracy\n",
    "y_pred=X.dot(theta)\n",
    "MSE=np.mean((Y-y_pred)**2)\n",
    "print(\"Mean Square Error: \", MSE)"
   ]
  },
  {
   "cell_type": "code",
   "execution_count": 39,
   "id": "4b9d7189",
   "metadata": {},
   "outputs": [
    {
     "data": {
      "image/png": "[encoded data removed]",
      "text/plain": [
       "<Figure size 432x288 with 1 Axes>"
      ]
     },
     "metadata": {
      "needs_background": "light"
     },
     "output_type": "display_data"
    }
   ],
   "source": [
    "plt.title('Cost Function J (SGD)')\n",
    "plt.xlabel('No. of iterations')\n",
    "plt.ylabel('Cost')\n",
    "plt.plot(cost_hist)\n",
    "plt.show()"
   ]
  },
  {
   "cell_type": "code",
   "execution_count": 40,
   "id": "75773544",
   "metadata": {},
   "outputs": [],
   "source": [
    "def random_mini_batches(X,Y, minibatch_size):\n",
    "    \n",
    "    m = Y.size          \n",
    "    \n",
    "    permutation = list(np.random.permutation(m))            \n",
    "    shuffled_X = X[permutation,:]\n",
    "    shuffled_Y = Y[permutation]\n",
    "    \n",
    "    minibatches = []                                        \n",
    "    number_of_minibatches = int(m/minibatch_size)            \n",
    "    \n",
    "    for k in range(number_of_minibatches):\n",
    "        minibatch_X = shuffled_X[k*minibatch_size: (k+1)*minibatch_size,: ]\n",
    "        minibatch_Y = shuffled_Y[k*minibatch_size: (k+1)*minibatch_size ]\n",
    "        minibatch_pair = (minibatch_X , minibatch_Y)                        \n",
    "        minibatches.append(minibatch_pair)\n",
    "    if m%minibatch_size != 0 :\n",
    "        last_minibatch_X = shuffled_X[(k+1)*minibatch_size: m,: ]\n",
    "        last_minibatch_Y = shuffled_Y[(k+1)*minibatch_size: m]\n",
    "        last_minibatch_pair = (last_minibatch_X , last_minibatch_Y)\n",
    "        minibatches.append(last_minibatch_pair)\n",
    "    return minibatches"
   ]
  },
  {
   "cell_type": "code",
   "execution_count": 53,
   "id": "2e6cd05a",
   "metadata": {},
   "outputs": [
    {
     "name": "stdout",
     "output_type": "stream",
     "text": [
      "Convergence Time: 0.18363738059997559\n",
      "Theta: [-3.93246316  1.19570523]\n",
      "No. of iterations to converge:  1227\n"
     ]
    }
   ],
   "source": [
    "#Mini Batch LMS GRADIENT DESCENT\n",
    "start_time = time.time()\n",
    "alpha = 0.001 \n",
    "tol=1e-4\n",
    "m = Y.size \n",
    "theta = np.array([np.random.random(1)[0],np.random.random(1)[0]])\n",
    "cost=0\n",
    "prev_cost=99999\n",
    "cost_hist=[]\n",
    "while(abs(cost-prev_cost)>tol):\n",
    "    prev_cost = np.sum((X.dot(theta)-Y)**2)/2/m\n",
    "    mini_batches = random_mini_batches(X, Y, 4)\n",
    "    for mini_batch in mini_batches:\n",
    "        X_mini, Y_mini = mini_batch\n",
    "        pred = X_mini.dot(theta)\n",
    "        theta = theta - alpha*(X_mini.T.dot(pred-Y_mini))\n",
    "    cost = np.sum((X.dot(theta)-Y)**2)/2/m\n",
    "    #print(prev_cost, cost)\n",
    "    cost_hist.append(cost)\n",
    "print(\"Convergence Time:\", (time.time() - start_time)) \n",
    "print(\"Theta:\", theta)\n",
    "print(\"No. of iterations to converge: \", len(cost_hist))     "
   ]
  },
  {
   "cell_type": "code",
   "execution_count": 54,
   "id": "be7ba697",
   "metadata": {},
   "outputs": [
    {
     "data": {
      "text/plain": [
       "array([-3.93246316,  1.19570523])"
      ]
     },
     "execution_count": 54,
     "metadata": {},
     "output_type": "execute_result"
    }
   ],
   "source": [
    "theta"
   ]
  },
  {
   "cell_type": "code",
   "execution_count": 55,
   "id": "8fcb4728",
   "metadata": {},
   "outputs": [
    {
     "data": {
      "image/png": "[encoded data removed]",
      "text/plain": [
       "<Figure size 432x288 with 1 Axes>"
      ]
     },
     "metadata": {
      "needs_background": "light"
     },
     "output_type": "display_data"
    }
   ],
   "source": [
    "plt.title('Cost Function J (Mini Batch)')\n",
    "plt.xlabel('No. of iterations')\n",
    "plt.ylabel('Cost')\n",
    "plt.plot(cost_hist)\n",
    "plt.show()"
   ]
  },
  {
   "cell_type": "code",
   "execution_count": 56,
   "id": "a232d49b",
   "metadata": {},
   "outputs": [
    {
     "name": "stdout",
     "output_type": "stream",
     "text": [
      "Mean Square Error:  8.954070515787446\n"
     ]
    }
   ],
   "source": [
    "#Calculating accuracy\n",
    "y_pred=X.dot(theta)\n",
    "MSE=np.mean((Y-y_pred)**2)\n",
    "print(\"Mean Square Error: \", MSE)"
   ]
  },
  {
   "cell_type": "code",
   "execution_count": 57,
   "id": "bffbed96",
   "metadata": {},
   "outputs": [],
   "source": [
    "#Least Square Closed Form \n",
    "theta=(np.linalg.inv(X.T.dot(X)).dot(X.T)).dot(Y)"
   ]
  },
  {
   "cell_type": "code",
   "execution_count": 59,
   "id": "a7e3561e",
   "metadata": {},
   "outputs": [
    {
     "name": "stdout",
     "output_type": "stream",
     "text": [
      "Theta:  [-3.91508424  1.19303364]\n"
     ]
    }
   ],
   "source": [
    "print(\"Theta: \", theta)"
   ]
  },
  {
   "cell_type": "code",
   "execution_count": 58,
   "id": "f110f4ef",
   "metadata": {},
   "outputs": [
    {
     "name": "stdout",
     "output_type": "stream",
     "text": [
      "Mean Square Error:  8.953942751950358\n"
     ]
    }
   ],
   "source": [
    "y_pred=X.dot(theta)\n",
    "MSE=np.mean((Y-y_pred)**2)\n",
    "print(\"Mean Square Error: \", MSE)"
   ]
  },
  {
   "cell_type": "markdown",
   "id": "c517a121",
   "metadata": {},
   "source": [
    "# Q2 b"
   ]
  },
  {
   "cell_type": "code",
   "execution_count": 60,
   "id": "dcb01c5f",
   "metadata": {},
   "outputs": [],
   "source": [
    "M=4\n",
    "W = []\n",
    "Bandwidth=0.5\n",
    "query_point=7.576\n",
    "for i in range(M):\n",
    "    xi = X[:,1][i]\n",
    "    denominator = (-2 * Bandwidth * Bandwidth)\n",
    "    W.append(np.exp(np.dot((xi-query_point), (xi-query_point).T)/denominator))"
   ]
  },
  {
   "cell_type": "code",
   "execution_count": 61,
   "id": "7ec34c35",
   "metadata": {},
   "outputs": [],
   "source": [
    "W=np.asarray(W)"
   ]
  },
  {
   "cell_type": "code",
   "execution_count": 62,
   "id": "3766fe7e",
   "metadata": {},
   "outputs": [],
   "source": [
    "#Locally Weighted Regression\n",
    "alpha = 0.001 \n",
    "m = 4\n",
    "x=X[0:4,:]\n",
    "y=Y[0:4]\n",
    "theta = np.array([np.random.random(1)[0],np.random.random(1)[0]])\n",
    "cost=0\n",
    "cost_hist=[]\n",
    "# print(x)\n",
    "for j in range(4):\n",
    "    for i in range(m):\n",
    "        pred = x[i].dot(theta)\n",
    "        theta = theta - alpha*(W[i]*(x[i].T.dot(pred-y[i])))\n",
    "    cost= W.T.dot(X[0:4,:].dot(theta)-Y[0:4])**2/(2*m)\n",
    "    cost_hist.append(cost)"
   ]
  },
  {
   "cell_type": "code",
   "execution_count": 63,
   "id": "25d0ef00",
   "metadata": {},
   "outputs": [
    {
     "name": "stdout",
     "output_type": "stream",
     "text": [
      "Theta: [0.71349679 0.41111413]\n"
     ]
    }
   ],
   "source": [
    "print(\"Theta:\", theta)"
   ]
  },
  {
   "cell_type": "code",
   "execution_count": 64,
   "id": "cf468307",
   "metadata": {},
   "outputs": [
    {
     "data": {
      "text/plain": [
       "[7.362915897411117, 6.759007559107173, 6.204754994354164, 5.696070153918476]"
      ]
     },
     "execution_count": 64,
     "metadata": {},
     "output_type": "execute_result"
    }
   ],
   "source": [
    "cost_hist"
   ]
  },
  {
   "cell_type": "code",
   "execution_count": 65,
   "id": "07fcf079",
   "metadata": {},
   "outputs": [
    {
     "data": {
      "text/plain": [
       "array([2.39600931e-02, 5.04599365e-04, 1.13718462e-01, 6.39492951e-01])"
      ]
     },
     "execution_count": 65,
     "metadata": {},
     "output_type": "execute_result"
    }
   ],
   "source": [
    "W"
   ]
  },
  {
   "cell_type": "code",
   "execution_count": 68,
   "id": "66b8e07e",
   "metadata": {},
   "outputs": [
    {
     "name": "stdout",
     "output_type": "stream",
     "text": [
      "Prediction:  3.828097461610978\n"
     ]
    }
   ],
   "source": [
    "Query=[1, query_point]\n",
    "Query=np.asarray(Query)\n",
    "print(\"Prediction: \", Query.dot(theta))"
   ]
  },
  {
   "cell_type": "markdown",
   "id": "ee7bf452",
   "metadata": {},
   "source": [
    "# Q2 c"
   ]
  },
  {
   "cell_type": "code",
   "execution_count": 69,
   "id": "3f427734",
   "metadata": {},
   "outputs": [],
   "source": [
    "x=np.expand_dims(X[:,-1], axis=1)\n",
    "y=np.expand_dims(Y, axis=1)"
   ]
  },
  {
   "cell_type": "code",
   "execution_count": 70,
   "id": "1d6793b4",
   "metadata": {},
   "outputs": [
    {
     "data": {
      "text/plain": [
       "(97, 1)"
      ]
     },
     "execution_count": 70,
     "metadata": {},
     "output_type": "execute_result"
    }
   ],
   "source": [
    "x.shape"
   ]
  },
  {
   "cell_type": "code",
   "execution_count": 71,
   "id": "d17cef78",
   "metadata": {},
   "outputs": [
    {
     "name": "stdout",
     "output_type": "stream",
     "text": [
      "51.116680052500485\n"
     ]
    }
   ],
   "source": [
    "from sklearn.linear_model import Ridge\n",
    "\n",
    "ridgeR = Ridge(alpha = 1)\n",
    "ridgeR.fit(x,y)\n",
    "y_pred = ridgeR.predict(x)\n",
    " \n",
    "# calculate mean square error\n",
    "mean_squared_error_ridge = np.mean((y_pred - Y)**2)\n",
    "print(mean_squared_error_ridge)"
   ]
  },
  {
   "cell_type": "code",
   "execution_count": 72,
   "id": "e7ac0283",
   "metadata": {},
   "outputs": [
    {
     "name": "stdout",
     "output_type": "stream",
     "text": [
      "9.021411820230476\n"
     ]
    }
   ],
   "source": [
    "from sklearn.linear_model import Lasso\n",
    "\n",
    "Lass = Lasso(alpha = 1)\n",
    "Lass.fit(x,y)\n",
    "y_pred = Lass.predict(x)\n",
    " \n",
    "# calculate mean square error\n",
    "mean_squared_error_lasso= np.mean((y_pred - Y)**2)\n",
    "print(mean_squared_error_lasso)"
   ]
  },
  {
   "cell_type": "code",
   "execution_count": 73,
   "id": "dde3e8fa",
   "metadata": {},
   "outputs": [
    {
     "name": "stdout",
     "output_type": "stream",
     "text": [
      "9.029855945191517\n"
     ]
    }
   ],
   "source": [
    "from sklearn.linear_model import ElasticNet\n",
    "\n",
    "Enet = ElasticNet(alpha = 1)\n",
    "Enet.fit(x,y)\n",
    "y_pred = Enet.predict(x)\n",
    " \n",
    "# calculate mean square error\n",
    "mean_squared_error_elasticnet = np.mean((y_pred - Y)**2)\n",
    "print(mean_squared_error_elasticnet)"
   ]
  },
  {
   "cell_type": "code",
   "execution_count": null,
   "id": "51812c41",
   "metadata": {},
   "outputs": [],
   "source": []
  }
 ],
 "metadata": {
  "kernelspec": {
   "display_name": "Python 3",
   "language": "python",
   "name": "python3"
  },
  "language_info": {
   "codemirror_mode": {
    "name": "ipython",
    "version": 3
   },
   "file_extension": ".py",
   "mimetype": "text/x-python",
   "name": "python",
   "nbconvert_exporter": "python",
   "pygments_lexer": "ipython3",
   "version": "3.8.8"
  }
 },
 "nbformat": 4,
 "nbformat_minor": 5
}
