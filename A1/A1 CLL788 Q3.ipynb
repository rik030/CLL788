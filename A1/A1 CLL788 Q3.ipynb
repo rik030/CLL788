{
 "cells": [
  {
   "cell_type": "code",
   "execution_count": 1,
   "id": "c26491ab",
   "metadata": {},
   "outputs": [
    {
     "data": {
      "text/html": [
       "<div>\n",
       "<style scoped>\n",
       "    .dataframe tbody tr th:only-of-type {\n",
       "        vertical-align: middle;\n",
       "    }\n",
       "\n",
       "    .dataframe tbody tr th {\n",
       "        vertical-align: top;\n",
       "    }\n",
       "\n",
       "    .dataframe thead th {\n",
       "        text-align: right;\n",
       "    }\n",
       "</style>\n",
       "<table border=\"1\" class=\"dataframe\">\n",
       "  <thead>\n",
       "    <tr style=\"text-align: right;\">\n",
       "      <th></th>\n",
       "      <th>Aptitude</th>\n",
       "      <th>Verbal</th>\n",
       "      <th>Label</th>\n",
       "    </tr>\n",
       "  </thead>\n",
       "  <tbody>\n",
       "    <tr>\n",
       "      <th>0</th>\n",
       "      <td>34.723660</td>\n",
       "      <td>30.386711</td>\n",
       "      <td>0</td>\n",
       "    </tr>\n",
       "    <tr>\n",
       "      <th>1</th>\n",
       "      <td>30.386711</td>\n",
       "      <td>35.947409</td>\n",
       "      <td>0</td>\n",
       "    </tr>\n",
       "    <tr>\n",
       "      <th>2</th>\n",
       "      <td>35.947409</td>\n",
       "      <td>60.282599</td>\n",
       "      <td>0</td>\n",
       "    </tr>\n",
       "    <tr>\n",
       "      <th>3</th>\n",
       "      <td>45.183277</td>\n",
       "      <td>61.206665</td>\n",
       "      <td>0</td>\n",
       "    </tr>\n",
       "    <tr>\n",
       "      <th>4</th>\n",
       "      <td>95.961555</td>\n",
       "      <td>75.113658</td>\n",
       "      <td>0</td>\n",
       "    </tr>\n",
       "  </tbody>\n",
       "</table>\n",
       "</div>"
      ],
      "text/plain": [
       "    Aptitude     Verbal  Label\n",
       "0  34.723660  30.386711      0\n",
       "1  30.386711  35.947409      0\n",
       "2  35.947409  60.282599      0\n",
       "3  45.183277  61.206665      0\n",
       "4  95.961555  75.113658      0"
      ]
     },
     "execution_count": 1,
     "metadata": {},
     "output_type": "execute_result"
    }
   ],
   "source": [
    "import numpy as np \n",
    "import pandas as pd \n",
    "import matplotlib.pyplot as plt \n",
    "import time  \n",
    "\n",
    "train_data= pd.read_excel(\"CLL788_A1/q2train.xlsx\")\n",
    "\n",
    "train_data.head() "
   ]
  },
  {
   "cell_type": "code",
   "execution_count": 2,
   "id": "8a25c7b7",
   "metadata": {},
   "outputs": [],
   "source": [
    "train_data.insert(loc=0, column='intercept', value=1.0)\n",
    "d=train_data.to_numpy()\n",
    "X=d[:,0:3]\n",
    "Y=d[:,-1]"
   ]
  },
  {
   "cell_type": "code",
   "execution_count": 3,
   "id": "f5c239f0",
   "metadata": {},
   "outputs": [],
   "source": [
    "#Sigmoid Function\n",
    "def sigmoid(x):\n",
    "    z = 1/(1 + np.exp(-x))\n",
    "    return z"
   ]
  },
  {
   "cell_type": "code",
   "execution_count": 4,
   "id": "8d6b6bc9",
   "metadata": {},
   "outputs": [
    {
     "name": "stdout",
     "output_type": "stream",
     "text": [
      "Convergence Time: 0.18726754188537598\n",
      "[ 0.0466419   0.02988976 -0.02543308]\n"
     ]
    }
   ],
   "source": [
    "#Batch LMS GRADIENT DESCENT\n",
    "start_time = time.time()\n",
    "alpha = 0.001 \n",
    "tol=1e-4\n",
    "m = Y.size \n",
    "weights = np.array([np.random.random(1)[0],np.random.random(1)[0],np.random.random(1)[0]])\n",
    "cost=0\n",
    "prev_cost=99999\n",
    "cost_hist=[]\n",
    "while(abs(cost-prev_cost)>tol):\n",
    "    pred = sigmoid(X.dot(weights))\n",
    "    prev_cost = np.sum((pred-Y)**2)/(2*m)\n",
    "    weights = weights - alpha*(X.T.dot(pred-Y))/m\n",
    "    cost = Y.dot(np.log(pred))+(1-Y).dot(np.log(1-np.log(pred)))\n",
    "    cost_hist.append(cost)\n",
    "print(\"Convergence Time:\", (time.time() - start_time)) \n",
    "print(weights)"
   ]
  },
  {
   "cell_type": "code",
   "execution_count": 5,
   "id": "7392d1f3",
   "metadata": {},
   "outputs": [],
   "source": [
    "ypred=sigmoid(X.dot(weights))\n",
    "ypred = np.where(ypred > 0.5, 1, 0)       "
   ]
  },
  {
   "cell_type": "code",
   "execution_count": 6,
   "id": "7e1ec9af",
   "metadata": {},
   "outputs": [
    {
     "data": {
      "text/plain": [
       "array([1, 1, 0, 0, 1, 1, 0, 1, 0, 1, 0, 1, 1, 0, 1, 0, 1, 0, 1, 0, 0, 1,\n",
       "       0, 0, 0, 1, 0, 0, 0, 1, 0, 0, 1, 0, 0, 1, 0, 1, 1, 1, 1, 1, 0, 1,\n",
       "       1, 1, 1, 1, 0, 1, 0, 1, 1, 1, 1, 1, 0, 1, 0, 1, 0, 1, 1, 1, 1, 1,\n",
       "       1, 1, 1, 1])"
      ]
     },
     "execution_count": 6,
     "metadata": {},
     "output_type": "execute_result"
    }
   ],
   "source": [
    "ypred"
   ]
  },
  {
   "cell_type": "code",
   "execution_count": 7,
   "id": "efda0a30",
   "metadata": {},
   "outputs": [
    {
     "name": "stdout",
     "output_type": "stream",
     "text": [
      "Accuracy on training set: 68.11594202898551 %\n"
     ]
    }
   ],
   "source": [
    "#Training Accuracy\n",
    "ct = 0    \n",
    "correctly_classified=0\n",
    "for ct in range(np.size(ypred)):  \n",
    "    if (Y[ct] == ypred[ct]) :            \n",
    "        correctly_classified = correctly_classified + 1       \n",
    "          \n",
    "print( \"Accuracy on training set:\", ( correctly_classified / ct ) * 100,\"%\")"
   ]
  },
  {
   "cell_type": "code",
   "execution_count": 14,
   "id": "349572ab",
   "metadata": {},
   "outputs": [
    {
     "name": "stdout",
     "output_type": "stream",
     "text": [
      "    Aptitude     Verbal\n",
      "0  32.822833  43.407173\n",
      "1  64.139320  78.131688\n",
      "2  72.446494  96.327593\n",
      "3  60.557886  73.194998\n",
      "4  58.940956  75.958448\n"
     ]
    }
   ],
   "source": [
    "#Prediction on test data\n",
    "test_data= pd.read_excel(\"CLL788_A1/q2test.xlsx\")\n",
    "print(test_data.head()) \n",
    "test_data.insert(loc=0, column='intercept', value=1.0)\n",
    "d=test_data.to_numpy()\n",
    "X_test=d[:,0:3]\n",
    "# print(X_test)"
   ]
  },
  {
   "cell_type": "code",
   "execution_count": 15,
   "id": "95d61c5b",
   "metadata": {},
   "outputs": [],
   "source": [
    "ypred_test=sigmoid(X_test.dot(weights))\n",
    "ypred_test = np.where(ypred_test > 0.5, 1, 0 ) "
   ]
  },
  {
   "cell_type": "code",
   "execution_count": 16,
   "id": "3c3fc677",
   "metadata": {},
   "outputs": [
    {
     "data": {
      "text/plain": [
       "array([0, 0, 0, 0, 0, 1, 0, 0, 1, 1, 1, 1, 1, 1, 1, 0, 0, 1, 0, 1, 1, 1,\n",
       "       1, 1, 1, 1, 0, 1, 1, 1])"
      ]
     },
     "execution_count": 16,
     "metadata": {},
     "output_type": "execute_result"
    }
   ],
   "source": [
    "ypred_test"
   ]
  },
  {
   "cell_type": "code",
   "execution_count": 11,
   "id": "09967d4f",
   "metadata": {},
   "outputs": [
    {
     "data": {
      "text/plain": [
       "(70,)"
      ]
     },
     "execution_count": 11,
     "metadata": {},
     "output_type": "execute_result"
    }
   ],
   "source": [
    "ypred_test.shape"
   ]
  },
  {
   "cell_type": "code",
   "execution_count": 32,
   "id": "2c71bb81",
   "metadata": {},
   "outputs": [],
   "source": [
    "np.savetxt('output1.txt', ypred_test, fmt ='%.0f\\n')"
   ]
  },
  {
   "cell_type": "code",
   "execution_count": null,
   "id": "c6c44780",
   "metadata": {},
   "outputs": [],
   "source": []
  }
 ],
 "metadata": {
  "kernelspec": {
   "display_name": "Python 3",
   "language": "python",
   "name": "python3"
  },
  "language_info": {
   "codemirror_mode": {
    "name": "ipython",
    "version": 3
   },
   "file_extension": ".py",
   "mimetype": "text/x-python",
   "name": "python",
   "nbconvert_exporter": "python",
   "pygments_lexer": "ipython3",
   "version": "3.8.8"
  }
 },
 "nbformat": 4,
 "nbformat_minor": 5
}
